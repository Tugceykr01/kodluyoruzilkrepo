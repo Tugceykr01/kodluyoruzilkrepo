{
 "cells": [
  {
   "cell_type": "code",
   "execution_count": 1,
   "id": "869b9e62-b445-4222-bbf1-936a3edb7fca",
   "metadata": {},
   "outputs": [
    {
     "name": "stdout",
     "output_type": "stream",
     "text": [
      "[1, 'a', 'cat', 2, 3, 'dog', 4, 5]\n"
     ]
    }
   ],
   "source": [
    "def flatten_list(nested_list):\n",
    "    flat_list = []\n",
    "    for item in nested_list:\n",
    "        if isinstance(item, list):\n",
    "            flat_list.extend(flatten_list(item))\n",
    "        else:\n",
    "            flat_list.append(item)\n",
    "    return flat_list\n",
    "\n",
    "input_list = [[1, 'a', ['cat'], 2], [[[3]], 'dog'], 4, 5]\n",
    "output_list = flatten_list(input_list)\n",
    "print(output_list) \n"
   ]
  },
  {
   "cell_type": "code",
   "execution_count": 3,
   "id": "19aac212-3fd9-47de-897c-bdec0fc56d4e",
   "metadata": {},
   "outputs": [
    {
     "name": "stdout",
     "output_type": "stream",
     "text": [
      "[[7, 6, 5], [4, 3], [2, 1]]\n"
     ]
    }
   ],
   "source": [
    "def reverse_nested_list(nested_list):\n",
    "    reversed_list = nested_list[::-1]  \n",
    "    for i, item in enumerate(reversed_list):\n",
    "        if isinstance(item, list):\n",
    "            reversed_list[i] = reverse_nested_list(item) \n",
    "    return reversed_list\n",
    "input_list = [[1, 2], [3, 4], [5, 6, 7]]\n",
    "output_list = reverse_nested_list(input_list)\n",
    "print(output_list) "
   ]
  },
  {
   "cell_type": "code",
   "execution_count": null,
   "id": "40c724eb-58fe-419a-96bb-1a298bf34b03",
   "metadata": {},
   "outputs": [],
   "source": []
  }
 ],
 "metadata": {
  "kernelspec": {
   "display_name": "Python 3 (ipykernel)",
   "language": "python",
   "name": "python3"
  },
  "language_info": {
   "codemirror_mode": {
    "name": "ipython",
    "version": 3
   },
   "file_extension": ".py",
   "mimetype": "text/x-python",
   "name": "python",
   "nbconvert_exporter": "python",
   "pygments_lexer": "ipython3",
   "version": "3.11.7"
  }
 },
 "nbformat": 4,
 "nbformat_minor": 5
}
